{
  "nbformat": 4,
  "nbformat_minor": 0,
  "metadata": {
    "colab": {
      "provenance": []
    },
    "kernelspec": {
      "name": "python3",
      "display_name": "Python 3"
    },
    "language_info": {
      "name": "python"
    }
  },
  "cells": [
    {
      "cell_type": "markdown",
      "source": [
        "1. What are data structures, and why are they important?\n",
        "  - Data structure is a way of organising and storing data so that it can be accessed and manipulated easily and efficiently.\n",
        "  - Data is of no use if the cannot be accessed and manipulated, hence data structues are important.\n",
        "\n",
        "2. Explain the difference between mutable and immutable data types with examples.\n",
        "  - Mutable data types are those whose elements can be accessed and be changed or replaced. Example - Sets, Lists\n",
        "  - Immutable data types are those whose elements cannot be changed or replaced. Example - Strings, Tuples\n",
        "\n",
        "3. What are the main differences between lists and tuples in Python?\n",
        "  - Lists are mutable (elements can be changed) while tuples are immutable (elements cannot be changed).\n",
        "\n",
        "4. Describe how dictionaries store data.\n",
        "  - Dictionaries store data in pairs of keys and values.\n",
        "  Example : a = {\"name\"=\"Amiyaa\"}\n",
        "  Here, \"name\" is a key and \"Amiyaa\" is values.\n",
        "  Also keys work as index in dictionaries.\n",
        "\n",
        "5. Why might you use a set instead of a list in Python?\n",
        "  - If we want only unique elements of a list, we should use a set.\n",
        "\n",
        "6. What is a string in Python, and how is it different from a list?\n",
        "  - String is a sequence of characters where each character is a single unit of text which is helpful to represent and manipulate textual data in a programming language.\n",
        "  - Strings are immutable (any character of a string cannot be changed) while lists are mutable (any element of a list can be changed).\n",
        "\n",
        "7. How do tuples ensure data integrity in Python/\n",
        "  - Since tuples are immutable(elements cannot be changed), it ensures data integrity in Python.\n",
        "\n",
        "8. What is a hash table, and how does it relate to dictionaries in Python?\n",
        "  - Hash tables are immutable data types.\n",
        "  - Since dictionaries are mutable, they are unhashed tables. They have an unstable hash value.\n",
        "\n",
        "9. Can lists contain different data types in Python?\n",
        "  - Yes, they are heterogeneous.\n",
        "\n",
        "10. Explain why strings are immutable in Python/\n",
        "  - Unique text characters of a string cannot be replaced or changed once a string is created. Thus they are immutable.\n",
        "\n",
        "11. What advantages do dictionaries offer over lists for certain tasks?\n",
        "  - In lists, default indexing is present for the elements, while for dictionaries, we are able to assign names for the index (which we call keys).\n",
        "  Thus indexing is made easierin dictionaries.\n",
        "\n",
        "12. Describe a scenario where using a tuple would be preferable over a list?\n",
        "  - A scenario where we do not want the user to make any changes over an existing data, in such a situation, a tuple would be more preferrable over a list.\n",
        "\n",
        "13. How do sets handle duplicate values in Python?\n",
        "  - A set would return only unique values (can be unordered) even if any element is repeated.\n",
        "\n",
        "14. How does the “in” keyword work differently for lists and dictionaries?\n",
        "  - In lists, \"in\" checks for presence of elements.\n",
        "  - In dictionaries, \"in\" checks for existence of keys.\n",
        "\n",
        "15. Can you modify the elements of a tuple? Explain why or why not?\n",
        "  - We cannot modify the elements of a tuple since they are immutable.\n",
        "\n",
        "16. What is a nested dictionary, and give an example of its use case.\n",
        "  - Lists and tuples can be included as values in dictionaries. They are called nested dictionaries.\n",
        "  Example - a = {\"names\"=[\"A\",\"B\",\"C\"], \"no\"=(1,2,3)}\n",
        "\n",
        "17. Describe the time complexity of accessing elements in a dictionary.\n",
        "  - It takes more time to access the elements by the name of their keys than by the default indexing.\n",
        "\n",
        "18. In what situations are lists preferred over dictionaries?\n",
        "  - In situations where indexing names need not be specified by us for accessing individual elements of a list.\n",
        "\n",
        "19. Why are dictionaries considered unordered, and how does that affect data retrieval?\n",
        "  - Dictionaries are optimized for fast key-based access.\n",
        "\n",
        "20. Explain the difference between a list and a dictionary in terms of data retrieval.\n",
        "  - While retrieving data from list, the default indexing which starts from zero (or negative indexing) must be specified.\n",
        "  - While retrieving data from dictionary, instead of the default index, we need to specify the name of the key which is storing the value that we need to retrieve."
      ],
      "metadata": {
        "id": "921J_PRlmXlK"
      }
    },
    {
      "cell_type": "code",
      "source": [
        "#1. Write a code to create a string with your name and print it\n",
        "name = \"Amiyaa\"\n",
        "print (name)\n"
      ],
      "metadata": {
        "colab": {
          "base_uri": "https://localhost:8080/"
        },
        "id": "fBCpBgRKmY-Z",
        "outputId": "f04adead-1db4-48a2-b5a1-d53f0830c3df"
      },
      "execution_count": 1,
      "outputs": [
        {
          "output_type": "stream",
          "name": "stdout",
          "text": [
            "Amiyaa\n"
          ]
        }
      ]
    },
    {
      "cell_type": "code",
      "source": [
        "#2. Write a code to find the length of the string \"Hello World\".\n",
        "a = \"Hello World\"\n",
        "print (len(a))"
      ],
      "metadata": {
        "colab": {
          "base_uri": "https://localhost:8080/"
        },
        "id": "l1fZEy0Vm495",
        "outputId": "aeec0988-0a03-4b78-922b-963378926ca4"
      },
      "execution_count": 2,
      "outputs": [
        {
          "output_type": "stream",
          "name": "stdout",
          "text": [
            "11\n"
          ]
        }
      ]
    },
    {
      "cell_type": "code",
      "source": [
        "#3. Write a code to slice the first 3 characters from the string \"Python Programming\"\n",
        "a = \"Python Programming\"\n",
        "a[0:3]"
      ],
      "metadata": {
        "colab": {
          "base_uri": "https://localhost:8080/",
          "height": 36
        },
        "id": "GAmYuvpVnP-_",
        "outputId": "a2850ff3-2e59-4ab4-de47-b2b6c93215fc"
      },
      "execution_count": 3,
      "outputs": [
        {
          "output_type": "execute_result",
          "data": {
            "text/plain": [
              "'Pyt'"
            ],
            "application/vnd.google.colaboratory.intrinsic+json": {
              "type": "string"
            }
          },
          "metadata": {},
          "execution_count": 3
        }
      ]
    },
    {
      "cell_type": "code",
      "source": [
        "#4. Write a code to convert the string \"hello\" to uppercase.\n",
        "a = \"hello\"\n",
        "a.upper()"
      ],
      "metadata": {
        "colab": {
          "base_uri": "https://localhost:8080/",
          "height": 36
        },
        "id": "A1iD1NkwoQF7",
        "outputId": "a1da885e-c447-4d95-89bf-3df854f419b1"
      },
      "execution_count": 4,
      "outputs": [
        {
          "output_type": "execute_result",
          "data": {
            "text/plain": [
              "'HELLO'"
            ],
            "application/vnd.google.colaboratory.intrinsic+json": {
              "type": "string"
            }
          },
          "metadata": {},
          "execution_count": 4
        }
      ]
    },
    {
      "cell_type": "code",
      "source": [
        "#5. Write a code to replace the word \"apple\" with \"orange\" in the string \"I like apple\"\n",
        "a = \"I like apple\"\n",
        "a.replace(\"apple\", \"orange\")"
      ],
      "metadata": {
        "colab": {
          "base_uri": "https://localhost:8080/",
          "height": 36
        },
        "id": "I3MSkIpJp842",
        "outputId": "c1e36055-6a49-4282-b9c6-81eb5b6b26e4"
      },
      "execution_count": 5,
      "outputs": [
        {
          "output_type": "execute_result",
          "data": {
            "text/plain": [
              "'I like orange'"
            ],
            "application/vnd.google.colaboratory.intrinsic+json": {
              "type": "string"
            }
          },
          "metadata": {},
          "execution_count": 5
        }
      ]
    },
    {
      "cell_type": "code",
      "source": [
        "#6. Write a code to create a list with numbers 1 to 5 and print it.\n",
        "a = [1,2,3,4,5]\n",
        "print(a)"
      ],
      "metadata": {
        "colab": {
          "base_uri": "https://localhost:8080/"
        },
        "id": "H06a3f_Eq23a",
        "outputId": "84f77be9-5a92-4be4-c0db-28692a0f791f"
      },
      "execution_count": 6,
      "outputs": [
        {
          "output_type": "stream",
          "name": "stdout",
          "text": [
            "[1, 2, 3, 4, 5]\n"
          ]
        }
      ]
    },
    {
      "cell_type": "code",
      "source": [
        "#7. Write a code to append the number 10 to the list [1, 2, 3, 4]\n",
        "a = [1, 2, 3, 4]\n",
        "a.append(10)\n",
        "a"
      ],
      "metadata": {
        "colab": {
          "base_uri": "https://localhost:8080/"
        },
        "id": "xOymFvforHkJ",
        "outputId": "d979741a-4e66-45f3-92f9-62021f67e5b2"
      },
      "execution_count": 8,
      "outputs": [
        {
          "output_type": "execute_result",
          "data": {
            "text/plain": [
              "[1, 2, 3, 4, 10]"
            ]
          },
          "metadata": {},
          "execution_count": 8
        }
      ]
    },
    {
      "cell_type": "code",
      "source": [
        "#8. Write a code to remove the number 3 from the list [1, 2, 3, 4, 5]\n",
        "a = [1, 2, 3, 4, 5]\n",
        "a.remove(3)\n",
        "a"
      ],
      "metadata": {
        "colab": {
          "base_uri": "https://localhost:8080/"
        },
        "id": "9Wcrvfl7rZTR",
        "outputId": "ae5d7a53-18cf-4641-e96c-872280227068"
      },
      "execution_count": 9,
      "outputs": [
        {
          "output_type": "execute_result",
          "data": {
            "text/plain": [
              "[1, 2, 4, 5]"
            ]
          },
          "metadata": {},
          "execution_count": 9
        }
      ]
    },
    {
      "cell_type": "code",
      "source": [
        "#9. Write a code to access the second element in the list ['a', 'b', 'c', 'd']\n",
        "a = ['a', 'b', 'c', 'd']\n",
        "a[1]\n",
        "\n"
      ],
      "metadata": {
        "colab": {
          "base_uri": "https://localhost:8080/",
          "height": 36
        },
        "id": "7t5ojKvkrpzj",
        "outputId": "3b455ce2-4f60-46dc-a23e-6c1fcd850ad4"
      },
      "execution_count": 10,
      "outputs": [
        {
          "output_type": "execute_result",
          "data": {
            "text/plain": [
              "'b'"
            ],
            "application/vnd.google.colaboratory.intrinsic+json": {
              "type": "string"
            }
          },
          "metadata": {},
          "execution_count": 10
        }
      ]
    },
    {
      "cell_type": "code",
      "source": [
        "#10. Write a code to reverse the list\n",
        "a =  [10, 20, 30, 40, 50]\n",
        "a[::-1]\n"
      ],
      "metadata": {
        "colab": {
          "base_uri": "https://localhost:8080/"
        },
        "id": "UAx-yW2wsAjh",
        "outputId": "b2897fe6-d8e6-4d48-9bdb-d64ceec3becc"
      },
      "execution_count": 11,
      "outputs": [
        {
          "output_type": "execute_result",
          "data": {
            "text/plain": [
              "[50, 40, 30, 20, 10]"
            ]
          },
          "metadata": {},
          "execution_count": 11
        }
      ]
    },
    {
      "cell_type": "code",
      "source": [
        "#11. Write a code to create a tuple with the elements 10, 20, 30 and print it.\n",
        "a = (10, 20, 30)\n",
        "print (a)"
      ],
      "metadata": {
        "colab": {
          "base_uri": "https://localhost:8080/"
        },
        "id": "aSc8zI8ZsYZo",
        "outputId": "44b9c70b-66a8-4c3e-d390-7a3c1d0258d6"
      },
      "execution_count": 12,
      "outputs": [
        {
          "output_type": "stream",
          "name": "stdout",
          "text": [
            "(10, 20, 30)\n"
          ]
        }
      ]
    },
    {
      "cell_type": "code",
      "source": [
        "#12. Write a code to access the first element of the tuple ('apple', 'banana', 'cherry')\n",
        "a = ('apple', 'banana', 'cherry')\n",
        "a[0]\n"
      ],
      "metadata": {
        "colab": {
          "base_uri": "https://localhost:8080/",
          "height": 36
        },
        "id": "T6yBU_ResnZr",
        "outputId": "2b638468-860a-4ec8-9195-cf36f4ca4ce7"
      },
      "execution_count": 18,
      "outputs": [
        {
          "output_type": "execute_result",
          "data": {
            "text/plain": [
              "'apple'"
            ],
            "application/vnd.google.colaboratory.intrinsic+json": {
              "type": "string"
            }
          },
          "metadata": {},
          "execution_count": 18
        }
      ]
    },
    {
      "cell_type": "code",
      "source": [
        "#13. Write a code to count how many times the number 2 appears in the tuple (1, 2, 3, 2, 4, 2)\n",
        "a = (1, 2, 3, 2, 4, 2)\n",
        "a.count(2)"
      ],
      "metadata": {
        "colab": {
          "base_uri": "https://localhost:8080/"
        },
        "id": "hRGxE6W8-b9N",
        "outputId": "fe9c6d4f-50e5-4cef-a3ce-4f5ec37f1926"
      },
      "execution_count": 19,
      "outputs": [
        {
          "output_type": "execute_result",
          "data": {
            "text/plain": [
              "3"
            ]
          },
          "metadata": {},
          "execution_count": 19
        }
      ]
    },
    {
      "cell_type": "code",
      "source": [
        "#14. Write a code to find the index of the element \"cat\" in the tuple ('dog', 'cat', 'rabbit')\n",
        "a = ('dog', 'cat', 'rabbit')\n",
        "a.index(\"cat\")"
      ],
      "metadata": {
        "colab": {
          "base_uri": "https://localhost:8080/"
        },
        "id": "8GaaNb8J_AZj",
        "outputId": "e806cfff-9c22-4cca-c5af-0bd7580ce9cd"
      },
      "execution_count": 20,
      "outputs": [
        {
          "output_type": "execute_result",
          "data": {
            "text/plain": [
              "1"
            ]
          },
          "metadata": {},
          "execution_count": 20
        }
      ]
    },
    {
      "cell_type": "code",
      "source": [
        "#15. Write a code to check if the element \"banana\" is in the tuple ('apple', 'orange', 'banana')\n",
        "a = ('apple', 'orange', 'banana')\n",
        "\"banana\" in a"
      ],
      "metadata": {
        "colab": {
          "base_uri": "https://localhost:8080/"
        },
        "id": "-k7B9l6dACYq",
        "outputId": "0fc2dc86-c1dd-4b66-9adc-3fd3ce7f66b4"
      },
      "execution_count": 21,
      "outputs": [
        {
          "output_type": "execute_result",
          "data": {
            "text/plain": [
              "True"
            ]
          },
          "metadata": {},
          "execution_count": 21
        }
      ]
    },
    {
      "cell_type": "code",
      "source": [
        "#16. Write a code to create a set with the elements 1, 2, 3, 4, 5 and print it.\n",
        "a = {1, 2,3, 4, 5}\n",
        "print (a)"
      ],
      "metadata": {
        "colab": {
          "base_uri": "https://localhost:8080/"
        },
        "id": "i6tiXrxxAUkI",
        "outputId": "2e9de708-2ba0-41ae-a301-91630e05a8f1"
      },
      "execution_count": 23,
      "outputs": [
        {
          "output_type": "stream",
          "name": "stdout",
          "text": [
            "{1, 2, 3, 4, 5}\n"
          ]
        }
      ]
    },
    {
      "cell_type": "code",
      "source": [
        "#17. Write a code to add the element 6 to the set {1, 2, 3, 4}.\n",
        "a = {1, 2, 3, 4}\n",
        "a.add(6)\n",
        "print (a)"
      ],
      "metadata": {
        "colab": {
          "base_uri": "https://localhost:8080/"
        },
        "id": "8tPmvfZgAvt1",
        "outputId": "bfbae6f6-9c92-4b61-a765-9c55444dcb1b"
      },
      "execution_count": 25,
      "outputs": [
        {
          "output_type": "stream",
          "name": "stdout",
          "text": [
            "{1, 2, 3, 4, 6}\n"
          ]
        }
      ]
    },
    {
      "cell_type": "code",
      "source": [
        "#18. Write a code to create a tuple with the elements 10, 20, 30 and print it.\n",
        "a = (10, 20, 30)\n",
        "print(a)"
      ],
      "metadata": {
        "colab": {
          "base_uri": "https://localhost:8080/"
        },
        "id": "m9d4VLJ6BEqn",
        "outputId": "34a3cae1-1ae1-4c4f-c7db-b90913eccd19"
      },
      "execution_count": 26,
      "outputs": [
        {
          "output_type": "stream",
          "name": "stdout",
          "text": [
            "(10, 20, 30)\n"
          ]
        }
      ]
    },
    {
      "cell_type": "code",
      "source": [
        "#19.  Write a code to access the first element of the tuple ('apple', 'banana', 'cherry')\n",
        "a = ('apple', 'banana', 'cherry')\n",
        "a[0]"
      ],
      "metadata": {
        "colab": {
          "base_uri": "https://localhost:8080/",
          "height": 36
        },
        "id": "_nnMsg4LBSi8",
        "outputId": "24915ffa-cd53-4c51-9b08-b16b2e8effde"
      },
      "execution_count": 27,
      "outputs": [
        {
          "output_type": "execute_result",
          "data": {
            "text/plain": [
              "'apple'"
            ],
            "application/vnd.google.colaboratory.intrinsic+json": {
              "type": "string"
            }
          },
          "metadata": {},
          "execution_count": 27
        }
      ]
    },
    {
      "cell_type": "code",
      "source": [
        "#20. Write a code to count how many times the number 2 appears in the tuple (1, 2, 3, 2, 4, 2)\n",
        "a = (1, 2, 3, 2, 4, 2)\n",
        "a.count(2)"
      ],
      "metadata": {
        "colab": {
          "base_uri": "https://localhost:8080/"
        },
        "id": "5Hjj9kQ4BgwP",
        "outputId": "25312386-32b3-4e80-dc12-40500364c298"
      },
      "execution_count": 28,
      "outputs": [
        {
          "output_type": "execute_result",
          "data": {
            "text/plain": [
              "3"
            ]
          },
          "metadata": {},
          "execution_count": 28
        }
      ]
    },
    {
      "cell_type": "code",
      "source": [
        "#21. Write a code to find the index of the element \"cat\" in the tuple ('dog', 'cat', 'rabbit').\n",
        "a = ('dog', 'cat', 'rabbit')\n",
        "a.index(\"cat\")"
      ],
      "metadata": {
        "colab": {
          "base_uri": "https://localhost:8080/"
        },
        "id": "JBqv5r0ABsbt",
        "outputId": "5645d55e-bb54-4cf5-8f78-299932f785ad"
      },
      "execution_count": 29,
      "outputs": [
        {
          "output_type": "execute_result",
          "data": {
            "text/plain": [
              "1"
            ]
          },
          "metadata": {},
          "execution_count": 29
        }
      ]
    },
    {
      "cell_type": "code",
      "source": [
        "#22.  Write a code to check if the element \"banana\" is in the tuple ('apple', 'orange', 'banana')\n",
        "a = ('apple', 'orange', 'banana')\n",
        "\"banana\" in a"
      ],
      "metadata": {
        "colab": {
          "base_uri": "https://localhost:8080/"
        },
        "id": "dctq4wnzB02B",
        "outputId": "09286f8e-9028-4c23-9ee2-f1a76c4213df"
      },
      "execution_count": 30,
      "outputs": [
        {
          "output_type": "execute_result",
          "data": {
            "text/plain": [
              "True"
            ]
          },
          "metadata": {},
          "execution_count": 30
        }
      ]
    },
    {
      "cell_type": "code",
      "source": [
        "#23.  Write a code to create a set with the elements 1, 2, 3, 4, 5 and print it.\n",
        "a = {1, 2,3, 4, 5}\n",
        "print (a)"
      ],
      "metadata": {
        "colab": {
          "base_uri": "https://localhost:8080/"
        },
        "id": "zoUD2cZGCGSq",
        "outputId": "5411fa5b-852b-4fe1-cc4d-405efe153b68"
      },
      "execution_count": 31,
      "outputs": [
        {
          "output_type": "stream",
          "name": "stdout",
          "text": [
            "{1, 2, 3, 4, 5}\n"
          ]
        }
      ]
    },
    {
      "cell_type": "code",
      "source": [
        "#24. Write a code to add the element 6 to the set {1, 2, 3, 4}.\n",
        "a = {1, 2, 3, 4}\n",
        "a.add(6)\n",
        "print (a)"
      ],
      "metadata": {
        "colab": {
          "base_uri": "https://localhost:8080/"
        },
        "id": "mMT_6RlSCPz-",
        "outputId": "06da493a-550e-4434-81c8-9f652ba1608a"
      },
      "execution_count": 32,
      "outputs": [
        {
          "output_type": "stream",
          "name": "stdout",
          "text": [
            "{1, 2, 3, 4, 6}\n"
          ]
        }
      ]
    }
  ]
}